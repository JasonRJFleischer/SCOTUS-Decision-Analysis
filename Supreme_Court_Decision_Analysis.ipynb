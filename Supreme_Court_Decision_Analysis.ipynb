{
  "nbformat": 4,
  "nbformat_minor": 0,
  "metadata": {
    "colab": {
      "name": "Supreme_Court_Decision_Analysis.ipynb",
      "version": "0.3.2",
      "provenance": []
    },
    "kernelspec": {
      "name": "python3",
      "display_name": "Python 3"
    }
  },
  "cells": [
    {
      "metadata": {
        "id": "s6IPkkOEyQCj",
        "colab_type": "text"
      },
      "cell_type": "markdown",
      "source": [
        "# Using Party Affiliation to analyze the Supreme Court Decisions"
      ]
    },
    {
      "metadata": {
        "id": "sI5zlxgBL2to",
        "colab_type": "code",
        "colab": {
          "base_uri": "https://localhost:8080/",
          "height": 207
        },
        "outputId": "b5597d45-b247-4485-f1ba-2eaaf37e0992"
      },
      "cell_type": "code",
      "source": [
        "# install dependencies\n",
        "!pip install missingno"
      ],
      "execution_count": 347,
      "outputs": [
        {
          "output_type": "stream",
          "text": [
            "Requirement already satisfied: missingno in /usr/local/lib/python3.6/dist-packages (0.4.1)\r\n",
            "Requirement already satisfied: seaborn in /usr/local/lib/python3.6/dist-packages (from missingno) (0.7.1)\r\n",
            "Requirement already satisfied: numpy in /usr/local/lib/python3.6/dist-packages (from missingno) (1.14.5)\r\n",
            "Requirement already satisfied: matplotlib in /usr/local/lib/python3.6/dist-packages (from missingno) (2.1.2)\r\n",
            "Requirement already satisfied: scipy in /usr/local/lib/python3.6/dist-packages (from missingno) (0.19.1)\r\n",
            "Requirement already satisfied: six>=1.10 in /usr/local/lib/python3.6/dist-packages (from matplotlib->missingno) (1.11.0)\r\n",
            "Requirement already satisfied: cycler>=0.10 in /usr/local/lib/python3.6/dist-packages (from matplotlib->missingno) (0.10.0)\r\n",
            "Requirement already satisfied: python-dateutil>=2.1 in /usr/local/lib/python3.6/dist-packages (from matplotlib->missingno) (2.5.3)\r\n",
            "Requirement already satisfied: pytz in /usr/local/lib/python3.6/dist-packages (from matplotlib->missingno) (2018.5)\r\n",
            "Requirement already satisfied: pyparsing!=2.0.4,!=2.1.2,!=2.1.6,>=2.0.1 in /usr/local/lib/python3.6/dist-packages (from matplotlib->missingno) (2.2.0)\r\n"
          ],
          "name": "stdout"
        }
      ]
    },
    {
      "metadata": {
        "id": "U0oKdyUbZDdx",
        "colab_type": "code",
        "colab": {}
      },
      "cell_type": "code",
      "source": [
        "# import packages\n",
        "\n",
        "# for handling data\n",
        "import pandas as pd\n",
        "import numpy as np\n",
        "from scipy import stats\n",
        "\n",
        "# preprocessing data\n",
        "from sklearn.preprocessing import LabelEncoder\n",
        "import missingno as msno\n",
        "\n",
        "# charts and graphs\n",
        "import matplotlib.pyplot as plt\n",
        "import seaborn as sns"
      ],
      "execution_count": 0,
      "outputs": []
    },
    {
      "metadata": {
        "id": "MIUIilfb6tYl",
        "colab_type": "text"
      },
      "cell_type": "markdown",
      "source": [
        "### Getting the Data"
      ]
    },
    {
      "metadata": {
        "id": "6rq0ei7XZEv8",
        "colab_type": "code",
        "colab": {}
      },
      "cell_type": "code",
      "source": [
        "# grab the data from a csv file and put it into a dataframe\n",
        "scdb_full = pd.read_csv(\"http://scdb.wustl.edu/_brickFiles/2018_01/SCDB_2018_01_caseCentered_Citation.csv.zip\", encoding = 'ISO 8859-1', compression='zip')"
      ],
      "execution_count": 0,
      "outputs": []
    },
    {
      "metadata": {
        "id": "EtjWv6cb0eNE",
        "colab_type": "code",
        "colab": {}
      },
      "cell_type": "code",
      "source": [
        "# user-created data stored in dictionaries\n",
        "\n",
        "houseParty = {1946: 'D', 1947: 'R', 1948: 'R', 1949: 'D', 1950: 'D', 1951: 'D', 1952: 'D', 1953: 'R', 1954: 'R', 1955: 'D', 1956: 'D', 1957: 'D', 1958: 'D', 1959: 'D', 1960: 'D', 1961: 'D', 1962: 'D', 1963: 'D', 1964: 'D', 1965: 'D', 1966: 'D', 1967: 'D', 1968: 'D', 1969: 'D', 1970: 'D', 1971: 'D', 1972: 'D', 1973: 'D', 1974: 'D', 1975: 'D', 1976: 'D', 1977: 'D', 1978: 'D', 1979: 'D', 1980: 'D', 1981: 'D', 1982: 'D', 1983: 'D', 1984: 'D', 1985: 'D', 1986: 'D', 1987: 'D', 1988: 'D', 1989: 'D', 1990: 'D', 1991: 'D', 1992: 'D', 1993: 'D', 1994: 'D', 1995: 'R', 1996: 'R', 1997: 'R', 1998: 'R', 1999: 'R', 2000: 'R', 2001: 'R', 2002: 'R', 2003: 'R', 2004: 'R', 2005: 'R', 2006: 'R', 2007: 'D', 2008: 'D', 2009: 'D', 2010: 'D', 2011: 'R', 2012: 'R', 2013: 'R', 2014: 'R', 2015: 'R', 2016: 'R', 2017: 'R', 2018: 'R'}\n",
        "senateParty = {1946: 'D', 1947: 'R', 1948: 'R', 1949: 'D', 1950: 'D', 1951: 'D', 1952: 'D', 1953: 'R', 1954: 'R', 1955: 'D', 1956: 'D', 1957: 'D', 1958: 'D', 1959: 'D', 1960: 'D', 1961: 'D', 1962: 'D', 1963: 'D', 1964: 'D', 1965: 'D', 1966: 'D', 1967: 'D', 1968: 'D', 1969: 'D', 1970: 'D', 1971: 'D', 1972: 'D', 1973: 'D', 1974: 'D', 1975: 'D', 1976: 'D', 1977: 'D', 1978: 'D', 1979: 'D', 1980: 'D', 1981: 'R', 1982: 'R', 1983: 'R', 1984: 'R', 1985: 'R', 1986: 'R', 1987: 'D', 1988: 'D', 1989: 'D', 1990: 'D', 1991: 'D', 1992: 'D', 1993: 'D', 1994: 'D', 1995: 'R', 1996: 'R', 1997: 'R', 1998: 'R', 1999: 'R', 2000: 'R', 2001: 'D', 2002: 'D', 2003: 'R', 2004: 'R', 2005: 'R', 2006: 'R', 2007: 'D', 2008: 'D', 2009: 'D', 2010: 'D', 2011: 'D', 2012: 'D', 2013: 'D', 2014: 'D', 2015: 'R', 2016: 'R', 2017: 'R', 2018: 'R'}\n",
        "presidentialParty = {1946: 'D', 1947: 'D', 1948: 'D', 1949: 'D', 1950: 'D', 1951: 'D', 1952: 'D', 1953: 'R', 1954: 'R', 1955: 'R', 1956: 'R', 1957: 'R', 1958: 'R', 1959: 'R', 1960: 'R', 1961: 'D', 1962: 'D', 1963: 'D', 1964: 'D', 1965: 'D', 1966: 'D', 1967: 'D', 1968: 'D', 1969: 'R', 1970: 'R', 1971: 'R', 1972: 'R', 1973: 'R', 1974: 'R', 1975: 'R', 1976: 'R', 1977: 'D', 1978: 'D', 1979: 'D', 1980: 'D', 1981: 'R', 1982: 'R', 1983: 'R', 1984: 'R', 1985: 'R', 1986: 'R', 1987: 'R', 1988: 'R', 1989: 'R', 1990: 'R', 1991: 'R', 1992: 'R', 1993: 'D', 1994: 'D', 1995: 'D', 1996: 'D', 1997: 'D', 1998: 'D', 1999: 'D', 2000: 'D', 2001: 'R', 2002: 'R', 2003: 'R', 2004: 'R', 2005: 'R', 2006: 'R', 2007: 'R', 2008: 'R', 2009: 'D', 2010: 'D', 2011: 'D', 2012: 'D', 2013: 'D', 2014: 'D', 2015: 'D', 2016: 'D', 2017: 'R', 2018: 'R'}\n",
        "justicesParty = {1946: 0.0, 1947: 0.0, 1948: 0.0, 1949: 0.0, 1950: 0.0, 1951: 0.0, 1952: 0.0, 1953: 0.1111111111111111, 1954: 0.17349397590361446, 1955: 0.2222222222222222, 1956: 0.3964757709251101, 1957: 0.4444444444444444, 1958: 0.5531574740207834, 1959: 0.5555555555555556, 1960: 0.5555555555555556, 1961: 0.4943289224952741, 1962: 0.4444444444444444, 1963: 0.4444444444444444, 1964: 0.44481327800829873, 1965: 0.4444444444444444, 1966: 0.4444444444444444, 1967: 0.4444444444444444, 1968: 0.4605263157894737, 1969: 0.5137931034482759, 1970: 0.5555555555555556, 1971: 0.6524271844660194, 1972: 0.6666666666666666, 1973: 0.6666666666666666, 1974: 0.6666666666666666, 1975: 0.7718327183271833, 1976: 0.7777777777777778, 1977: 0.7777777777777778, 1978: 0.7777777777777778, 1979: 0.7777777777777778, 1980: 0.7777777777777778, 1981: 0.7777777777777778, 1982: 0.7777777777777778, 1983: 0.7777777777777778, 1984: 0.7777777777777778, 1985: 0.7777777777777778, 1986: 0.7777777777777778, 1987: 0.7733333333333333, 1988: 0.7777777777777778, 1989: 0.7777777777777778, 1990: 0.7775862068965518, 1991: 0.8886827458256029, 1992: 0.8897126969416126, 1993: 0.8888888888888888, 1994: 0.7777777777777778, 1995: 0.7777777777777778, 1996: 0.7777777777777778, 1997: 0.7777777777777778, 1998: 0.7777777777777778, 1999: 0.7774869109947644, 2000: 0.7774936061381074, 2001: 0.7777777777777778, 2002: 0.7777777777777778, 2003: 0.7790368271954674, 2004: 0.7777777777777778, 2005: 0.7777777777777778, 2006: 0.7771173848439822, 2007: 0.7777777777777778, 2008: 0.7777777777777778, 2009: 0.6654719235364397, 2010: 0.5555555555555556, 2011: 0.5555555555555556, 2012: 0.5555555555555556, 2013: 0.5555555555555556, 2014: 0.5555555555555556, 2015: 0.5135135135135135, 2016: 0.5369127516778524, 2017: 0.5555555555555556, 2018: 0.5555555555555556}"
      ],
      "execution_count": 0,
      "outputs": []
    },
    {
      "metadata": {
        "id": "wKkHoGh80qOE",
        "colab_type": "code",
        "colab": {}
      },
      "cell_type": "code",
      "source": [
        "# create a year column from the 'dateDecision' column\n",
        "\n",
        "full_date = scdb_full['dateDecision'].tolist()\n",
        "year = []\n",
        "for date in full_date:\n",
        "    year.append(int(date[-4:]))\n",
        "scdb_full['year'] = year"
      ],
      "execution_count": 0,
      "outputs": []
    },
    {
      "metadata": {
        "id": "Y-mvoMmp0ySR",
        "colab_type": "code",
        "colab": {}
      },
      "cell_type": "code",
      "source": [
        "# map over the year column to create new columns with the appropriate data for each year\n",
        "\n",
        "scdb_full['houseParty'] = scdb_full['year'].apply(lambda x:houseParty[x])\n",
        "scdb_full['senateParty'] = scdb_full['year'].apply(lambda x:senateParty[x])\n",
        "scdb_full['presidentialParty'] = scdb_full['year'].apply(lambda x:presidentialParty[x])\n",
        "scdb_full['justicesParty'] = scdb_full['year'].apply(lambda x:justicesParty[x])"
      ],
      "execution_count": 0,
      "outputs": []
    },
    {
      "metadata": {
        "id": "GN0FNaum1HZA",
        "colab_type": "code",
        "colab": {
          "base_uri": "https://localhost:8080/",
          "height": 272
        },
        "outputId": "0015d392-2eaf-4244-e42c-c859b59a524b"
      },
      "cell_type": "code",
      "source": [
        "# check out all the features the scdb has\n",
        "\n",
        "scdb_full.columns"
      ],
      "execution_count": 353,
      "outputs": [
        {
          "output_type": "execute_result",
          "data": {
            "text/plain": [
              "Index(['caseId', 'docketId', 'caseIssuesId', 'voteId', 'dateDecision',\n",
              "       'decisionType', 'usCite', 'sctCite', 'ledCite', 'lexisCite', 'term',\n",
              "       'naturalCourt', 'chief', 'docket', 'caseName', 'dateArgument',\n",
              "       'dateRearg', 'petitioner', 'petitionerState', 'respondent',\n",
              "       'respondentState', 'jurisdiction', 'adminAction', 'adminActionState',\n",
              "       'threeJudgeFdc', 'caseOrigin', 'caseOriginState', 'caseSource',\n",
              "       'caseSourceState', 'lcDisagreement', 'certReason', 'lcDisposition',\n",
              "       'lcDispositionDirection', 'declarationUncon', 'caseDisposition',\n",
              "       'caseDispositionUnusual', 'partyWinning', 'precedentAlteration',\n",
              "       'voteUnclear', 'issue', 'issueArea', 'decisionDirection',\n",
              "       'decisionDirectionDissent', 'authorityDecision1', 'authorityDecision2',\n",
              "       'lawType', 'lawSupp', 'lawMinor', 'majOpinWriter', 'majOpinAssigner',\n",
              "       'splitVote', 'majVotes', 'minVotes', 'year', 'houseParty',\n",
              "       'senateParty', 'presidentialParty', 'justicesParty'],\n",
              "      dtype='object')"
            ]
          },
          "metadata": {
            "tags": []
          },
          "execution_count": 353
        }
      ]
    },
    {
      "metadata": {
        "id": "y5Ufe5JYRihc",
        "colab_type": "code",
        "colab": {}
      },
      "cell_type": "code",
      "source": [
        "# we don't need every feature, so we'll create a new dataframe with only the\n",
        "# features we want\n",
        "\n",
        "scdb = scdb_full[['term', \n",
        "                  'chief', \n",
        "                  'petitioner', \n",
        "                  'respondent', \n",
        "                  'jurisdiction', \n",
        "                  'adminAction',\n",
        "                  'caseOrigin',\n",
        "                  'caseSource',\n",
        "                  'certReason',\n",
        "                  'lcDispositionDirection',\n",
        "                  'issueArea',\n",
        "                  'majVotes',\n",
        "                  'minVotes',\n",
        "                  'justicesParty',\n",
        "                  'presidentialParty',\n",
        "                  'houseParty',\n",
        "                  'senateParty',\n",
        "                  'decisionDirection',\n",
        "                   ]]"
      ],
      "execution_count": 0,
      "outputs": []
    },
    {
      "metadata": {
        "id": "cGHJHWiT6wlC",
        "colab_type": "text"
      },
      "cell_type": "markdown",
      "source": [
        "### Viewing the Data"
      ]
    },
    {
      "metadata": {
        "id": "dY9as87UJRmv",
        "colab_type": "code",
        "colab": {
          "base_uri": "https://localhost:8080/",
          "height": 241
        },
        "outputId": "855beef8-1be5-4aa3-e615-955bd128d38f"
      },
      "cell_type": "code",
      "source": [
        "# take a quick look at the data\n",
        "\n",
        "print(scdb.shape)\n",
        "\n",
        "scdb.head()"
      ],
      "execution_count": 387,
      "outputs": [
        {
          "output_type": "stream",
          "text": [
            "(8893, 18)\n"
          ],
          "name": "stdout"
        },
        {
          "output_type": "execute_result",
          "data": {
            "text/html": [
              "<div>\n",
              "<style scoped>\n",
              "    .dataframe tbody tr th:only-of-type {\n",
              "        vertical-align: middle;\n",
              "    }\n",
              "\n",
              "    .dataframe tbody tr th {\n",
              "        vertical-align: top;\n",
              "    }\n",
              "\n",
              "    .dataframe thead th {\n",
              "        text-align: right;\n",
              "    }\n",
              "</style>\n",
              "<table border=\"1\" class=\"dataframe\">\n",
              "  <thead>\n",
              "    <tr style=\"text-align: right;\">\n",
              "      <th></th>\n",
              "      <th>term</th>\n",
              "      <th>chief</th>\n",
              "      <th>petitioner</th>\n",
              "      <th>respondent</th>\n",
              "      <th>jurisdiction</th>\n",
              "      <th>adminAction</th>\n",
              "      <th>caseOrigin</th>\n",
              "      <th>caseSource</th>\n",
              "      <th>certReason</th>\n",
              "      <th>lcDispositionDirection</th>\n",
              "      <th>issueArea</th>\n",
              "      <th>majVotes</th>\n",
              "      <th>minVotes</th>\n",
              "      <th>justicesParty</th>\n",
              "      <th>presidentialParty</th>\n",
              "      <th>houseParty</th>\n",
              "      <th>senateParty</th>\n",
              "      <th>decisionDirection</th>\n",
              "    </tr>\n",
              "  </thead>\n",
              "  <tbody>\n",
              "    <tr>\n",
              "      <th>0</th>\n",
              "      <td>1946</td>\n",
              "      <td>Vinson</td>\n",
              "      <td>198</td>\n",
              "      <td>172.0</td>\n",
              "      <td>6</td>\n",
              "      <td>NaN</td>\n",
              "      <td>51.0</td>\n",
              "      <td>29.0</td>\n",
              "      <td>11.0</td>\n",
              "      <td>1.0</td>\n",
              "      <td>8.0</td>\n",
              "      <td>8</td>\n",
              "      <td>1</td>\n",
              "      <td>0.0</td>\n",
              "      <td>D</td>\n",
              "      <td>D</td>\n",
              "      <td>D</td>\n",
              "      <td>2.0</td>\n",
              "    </tr>\n",
              "    <tr>\n",
              "      <th>1</th>\n",
              "      <td>1946</td>\n",
              "      <td>Vinson</td>\n",
              "      <td>100</td>\n",
              "      <td>27.0</td>\n",
              "      <td>1</td>\n",
              "      <td>NaN</td>\n",
              "      <td>123.0</td>\n",
              "      <td>30.0</td>\n",
              "      <td>4.0</td>\n",
              "      <td>1.0</td>\n",
              "      <td>1.0</td>\n",
              "      <td>6</td>\n",
              "      <td>3</td>\n",
              "      <td>0.0</td>\n",
              "      <td>D</td>\n",
              "      <td>D</td>\n",
              "      <td>D</td>\n",
              "      <td>1.0</td>\n",
              "    </tr>\n",
              "    <tr>\n",
              "      <th>2</th>\n",
              "      <td>1946</td>\n",
              "      <td>Vinson</td>\n",
              "      <td>209</td>\n",
              "      <td>27.0</td>\n",
              "      <td>2</td>\n",
              "      <td>66.0</td>\n",
              "      <td>107.0</td>\n",
              "      <td>107.0</td>\n",
              "      <td>1.0</td>\n",
              "      <td>2.0</td>\n",
              "      <td>8.0</td>\n",
              "      <td>5</td>\n",
              "      <td>4</td>\n",
              "      <td>0.0</td>\n",
              "      <td>D</td>\n",
              "      <td>D</td>\n",
              "      <td>D</td>\n",
              "      <td>2.0</td>\n",
              "    </tr>\n",
              "    <tr>\n",
              "      <th>3</th>\n",
              "      <td>1946</td>\n",
              "      <td>Vinson</td>\n",
              "      <td>27</td>\n",
              "      <td>170.0</td>\n",
              "      <td>1</td>\n",
              "      <td>67.0</td>\n",
              "      <td>3.0</td>\n",
              "      <td>3.0</td>\n",
              "      <td>10.0</td>\n",
              "      <td>2.0</td>\n",
              "      <td>2.0</td>\n",
              "      <td>5</td>\n",
              "      <td>3</td>\n",
              "      <td>0.0</td>\n",
              "      <td>D</td>\n",
              "      <td>D</td>\n",
              "      <td>D</td>\n",
              "      <td>2.0</td>\n",
              "    </tr>\n",
              "    <tr>\n",
              "      <th>4</th>\n",
              "      <td>1946</td>\n",
              "      <td>Vinson</td>\n",
              "      <td>27</td>\n",
              "      <td>176.0</td>\n",
              "      <td>1</td>\n",
              "      <td>NaN</td>\n",
              "      <td>3.0</td>\n",
              "      <td>3.0</td>\n",
              "      <td>2.0</td>\n",
              "      <td>2.0</td>\n",
              "      <td>8.0</td>\n",
              "      <td>6</td>\n",
              "      <td>3</td>\n",
              "      <td>0.0</td>\n",
              "      <td>D</td>\n",
              "      <td>D</td>\n",
              "      <td>D</td>\n",
              "      <td>2.0</td>\n",
              "    </tr>\n",
              "  </tbody>\n",
              "</table>\n",
              "</div>"
            ],
            "text/plain": [
              "   term   chief  petitioner  respondent  jurisdiction  adminAction  \\\n",
              "0  1946  Vinson         198       172.0             6          NaN   \n",
              "1  1946  Vinson         100        27.0             1          NaN   \n",
              "2  1946  Vinson         209        27.0             2         66.0   \n",
              "3  1946  Vinson          27       170.0             1         67.0   \n",
              "4  1946  Vinson          27       176.0             1          NaN   \n",
              "\n",
              "   caseOrigin  caseSource  certReason  lcDispositionDirection  issueArea  \\\n",
              "0        51.0        29.0        11.0                     1.0        8.0   \n",
              "1       123.0        30.0         4.0                     1.0        1.0   \n",
              "2       107.0       107.0         1.0                     2.0        8.0   \n",
              "3         3.0         3.0        10.0                     2.0        2.0   \n",
              "4         3.0         3.0         2.0                     2.0        8.0   \n",
              "\n",
              "   majVotes  minVotes  justicesParty presidentialParty houseParty senateParty  \\\n",
              "0         8         1            0.0                 D          D           D   \n",
              "1         6         3            0.0                 D          D           D   \n",
              "2         5         4            0.0                 D          D           D   \n",
              "3         5         3            0.0                 D          D           D   \n",
              "4         6         3            0.0                 D          D           D   \n",
              "\n",
              "   decisionDirection  \n",
              "0                2.0  \n",
              "1                1.0  \n",
              "2                2.0  \n",
              "3                2.0  \n",
              "4                2.0  "
            ]
          },
          "metadata": {
            "tags": []
          },
          "execution_count": 387
        }
      ]
    },
    {
      "metadata": {
        "id": "9Z1ERihAFQwc",
        "colab_type": "code",
        "colab": {}
      },
      "cell_type": "code",
      "source": [
        "# some functions to get statistics easily\n",
        "\n",
        "\n",
        "def get_mode(data, column):\n",
        "    \n",
        "    return stats.mode(data[column])\n",
        "\n",
        "def get_other_statistics(data, column):\n",
        "    \n",
        "    mean = data[column].mean()\n",
        "    median = data[column].median()\n",
        "    stdd = data[column].std()\n",
        "    var = data[column].var()\n",
        "    percentiles = np.percentile(data[column], [25, 50, 75])\n",
        "    \n",
        "    return {\"Mean\": mean, \"Median\": median, \"Standard Deviation\": stdd, \n",
        "            \"Variance\": var, \"Percentiles\": percentiles}"
      ],
      "execution_count": 0,
      "outputs": []
    },
    {
      "metadata": {
        "id": "eQbAE3veDru2",
        "colab_type": "code",
        "colab": {
          "base_uri": "https://localhost:8080/",
          "height": 683
        },
        "outputId": "502714dc-17a7-4ce7-96de-b842d269b08d"
      },
      "cell_type": "code",
      "source": [
        "# most of the data is categorical\n",
        "\n",
        "for column in scdb.columns:\n",
        "    print(column, get_mode(scdb, column), '\\n')"
      ],
      "execution_count": 376,
      "outputs": [
        {
          "output_type": "stream",
          "text": [
            "term ModeResult(mode=array([1967]), count=array([197])) \n",
            "\n",
            "chief ModeResult(mode=array(['Burger'], dtype=object), count=array([2809])) \n",
            "\n",
            "petitioner ModeResult(mode=array([28]), count=array([903])) \n",
            "\n",
            "respondent ModeResult(mode=array([28.]), count=array([1394])) \n",
            "\n",
            "jurisdiction ModeResult(mode=array([1]), count=array([7179])) \n",
            "\n",
            "adminAction ModeResult(mode=array([117.]), count=array([663])) \n",
            "\n"
          ],
          "name": "stdout"
        },
        {
          "output_type": "stream",
          "text": [
            "/usr/local/lib/python3.6/dist-packages/scipy/stats/stats.py:253: RuntimeWarning: The input array could not be properly checked for nan values. nan values will be ignored.\n",
            "  \"values. nan values will be ignored.\", RuntimeWarning)\n"
          ],
          "name": "stderr"
        },
        {
          "output_type": "stream",
          "text": [
            "caseOrigin ModeResult(mode=array([302.]), count=array([1875])) \n",
            "\n",
            "caseSource ModeResult(mode=array([300.]), count=array([1674])) \n",
            "\n",
            "certReason ModeResult(mode=array([12.]), count=array([3171])) \n",
            "\n",
            "lcDispositionDirection ModeResult(mode=array([1.]), count=array([4847])) \n",
            "\n",
            "issueArea ModeResult(mode=array([1.]), count=array([2015])) \n",
            "\n",
            "majVotes ModeResult(mode=array([9]), count=array([2549])) \n",
            "\n",
            "minVotes ModeResult(mode=array([0]), count=array([3537])) \n",
            "\n",
            "justicesParty ModeResult(mode=array([0.77777778]), count=array([3095])) \n",
            "\n",
            "presidentialParty ModeResult(mode=array(['R'], dtype=object), count=array([4894])) \n",
            "\n",
            "houseParty ModeResult(mode=array(['D'], dtype=object), count=array([6779])) \n",
            "\n",
            "senateParty ModeResult(mode=array(['D'], dtype=object), count=array([6274])) \n",
            "\n",
            "decisionDirection ModeResult(mode=array([2.]), count=array([4467])) \n",
            "\n"
          ],
          "name": "stdout"
        }
      ]
    },
    {
      "metadata": {
        "id": "ncRvq_xVFTwN",
        "colab_type": "code",
        "colab": {
          "base_uri": "https://localhost:8080/",
          "height": 88
        },
        "outputId": "b1607104-19bd-487a-92b4-a7e87be1537d"
      },
      "cell_type": "code",
      "source": [
        "# these three columns are the only numeric ones\n",
        "\n",
        "for column in scdb[['justicesParty', 'majVotes', 'minVotes']]:\n",
        "    print(column, get_other_statistics(scdb, column))"
      ],
      "execution_count": 378,
      "outputs": [
        {
          "output_type": "stream",
          "text": [
            "justicesParty {'Mean': 0.5986553659328738, 'Median': 0.6666666666666666, 'Standard Deviation': 0.23962476367402152, 'Variance': 0.05742002736583066, 'Percentiles': array([0.46052632, 0.66666667, 0.77777778])}\n",
            "majVotes {'Mean': 7.098279545710109, 'Median': 7.0, 'Standard Deviation': 1.5678572326466358, 'Variance': 2.458176301962367, 'Percentiles': array([6., 7., 9.])}\n",
            "minVotes {'Mean': 1.584054874620488, 'Median': 1.0, 'Standard Deviation': 1.5335657785006933, 'Variance': 2.3518239969884376, 'Percentiles': array([0., 1., 3.])}\n"
          ],
          "name": "stdout"
        }
      ]
    },
    {
      "metadata": {
        "id": "gvOCOhBz-9W9",
        "colab_type": "code",
        "colab": {
          "base_uri": "https://localhost:8080/",
          "height": 861
        },
        "outputId": "3c637d5b-752b-4541-aeba-bb2eb8dedd22"
      },
      "cell_type": "code",
      "source": [
        "# a pie chart to show the different areas of law cases involve\n",
        "\n",
        "list_names = ['Criminal Procedure', 'Civil Rights', 'First Amendment', 'Due Process', 'Privacy', 'Attorneys', 'Unions'\n",
        "                  'Economic Activity', 'Judicial Power', 'Federalism', 'Interstate Relations', 'Federal Taxation',\n",
        "                  'Miscellaneous', '', '']\n",
        "labels = scdb['issueArea'].astype('category').cat.categories.tolist()\n",
        "counts = scdb['issueArea'].value_counts()\n",
        "sizes = [counts[var_cat] for var_cat in labels]\n",
        "fig, ax = plt.subplots()\n",
        "fig.set_size_inches(15,15)\n",
        "ax.pie(sizes, labels=list_names, autopct='%1.1f%%', shadow=True);\n",
        "plt.title('Area of Law of Cases Heard by the Supreme Court');"
      ],
      "execution_count": 390,
      "outputs": [
        {
          "output_type": "display_data",
          "data": {
            "image/png": "[encoded data removed]",
            "text/plain": [
              "<matplotlib.figure.Figure at 0x7f9fd4d820f0>"
            ]
          },
          "metadata": {
            "tags": []
          }
        }
      ]
    },
    {
      "metadata": {
        "id": "7Zbhb9xZ-onl",
        "colab_type": "code",
        "colab": {}
      },
      "cell_type": "code",
      "source": [
        "# a simple function to make boxplots\n",
        "\n",
        "def plot_boxplot(data, column, by_column):\n",
        "    sns.boxplot(x = column, y = by_column, data = data).set_title('Boxplot of %s by %s' % (column, by_column))\n",
        "    plt.show()\n",
        "    plt.close()"
      ],
      "execution_count": 0,
      "outputs": []
    },
    {
      "metadata": {
        "id": "5EzmBFMuEvsY",
        "colab_type": "code",
        "colab": {
          "base_uri": "https://localhost:8080/",
          "height": 430
        },
        "outputId": "cddea427-612c-4d56-b42e-5419f6b2216c"
      },
      "cell_type": "code",
      "source": [
        "# boxplotting how the political makeup of the court affects decision outcome\n",
        "\n",
        "plot_boxplot(scdb, 'decisionDirection', 'justicesParty');"
      ],
      "execution_count": 398,
      "outputs": [
        {
          "output_type": "stream",
          "text": [
            "/usr/local/lib/python3.6/dist-packages/seaborn/categorical.py:454: FutureWarning: remove_na is deprecated and is a private function. Do not use.\n",
            "  box_data = remove_na(group_data)\n"
          ],
          "name": "stderr"
        },
        {
          "output_type": "display_data",
          "data": {
            "image/png": "[encoded data removed]",
            "text/plain": [
              "<matplotlib.figure.Figure at 0x7f9fcefb1eb8>"
            ]
          },
          "metadata": {
            "tags": []
          }
        }
      ]
    },
    {
      "metadata": {
        "id": "RVlx-aowH5NV",
        "colab_type": "code",
        "colab": {
          "base_uri": "https://localhost:8080/",
          "height": 430
        },
        "outputId": "abfdb236-a89d-47c3-fe3f-173fd9db7012"
      },
      "cell_type": "code",
      "source": [
        "# plotting decision outcome over time\n",
        "\n",
        "plot_boxplot(scdb, 'decisionDirection', 'term');"
      ],
      "execution_count": 399,
      "outputs": [
        {
          "output_type": "stream",
          "text": [
            "/usr/local/lib/python3.6/dist-packages/seaborn/categorical.py:454: FutureWarning: remove_na is deprecated and is a private function. Do not use.\n",
            "  box_data = remove_na(group_data)\n"
          ],
          "name": "stderr"
        },
        {
          "output_type": "display_data",
          "data": {
            "image/png": "[encoded data removed]",
            "text/plain": [
              "<matplotlib.figure.Figure at 0x7f9fd7933710>"
            ]
          },
          "metadata": {
            "tags": []
          }
        }
      ]
    },
    {
      "metadata": {
        "id": "QfRJ1jsP61V3",
        "colab_type": "text"
      },
      "cell_type": "markdown",
      "source": [
        "### Preprocessing"
      ]
    },
    {
      "metadata": {
        "id": "92UG_LVXE34W",
        "colab_type": "code",
        "colab": {
          "base_uri": "https://localhost:8080/",
          "height": 340
        },
        "outputId": "a5b3d3a0-6b3a-4911-e223-7e9d7d681f01"
      },
      "cell_type": "code",
      "source": [
        "# check to see if there are any null values\n",
        "\n",
        "scdb.isnull().any()"
      ],
      "execution_count": 260,
      "outputs": [
        {
          "output_type": "execute_result",
          "data": {
            "text/plain": [
              "term                      False\n",
              "chief                     False\n",
              "petitioner                False\n",
              "respondent                 True\n",
              "jurisdiction              False\n",
              "adminAction                True\n",
              "caseOrigin                 True\n",
              "caseSource                 True\n",
              "certReason                 True\n",
              "lcDispositionDirection     True\n",
              "issueArea                  True\n",
              "majVotes                  False\n",
              "minVotes                  False\n",
              "justicesParty             False\n",
              "presidentialParty         False\n",
              "houseParty                False\n",
              "senateParty               False\n",
              "decisionDirection          True\n",
              "dtype: bool"
            ]
          },
          "metadata": {
            "tags": []
          },
          "execution_count": 260
        }
      ]
    },
    {
      "metadata": {
        "id": "trSbLcwmFAeB",
        "colab_type": "code",
        "colab": {
          "base_uri": "https://localhost:8080/",
          "height": 425
        },
        "outputId": "cd40f755-f20a-4542-d88d-048b6af383b9"
      },
      "cell_type": "code",
      "source": [
        "# how many null values per feature?\n",
        "\n",
        "for column in scdb.columns:\n",
        "    if scdb[column].isnull().any() == True:\n",
        "        print('Nans in column \"' + column + '\":', scdb[column].isnull().sum(), '\\n\\n')"
      ],
      "execution_count": 261,
      "outputs": [
        {
          "output_type": "stream",
          "text": [
            "Nans in column \"respondent\": 1 \n",
            "\n",
            "\n",
            "Nans in column \"adminAction\": 6438 \n",
            "\n",
            "\n",
            "Nans in column \"caseOrigin\": 344 \n",
            "\n",
            "\n",
            "Nans in column \"caseSource\": 201 \n",
            "\n",
            "\n",
            "Nans in column \"certReason\": 86 \n",
            "\n",
            "\n",
            "Nans in column \"lcDispositionDirection\": 208 \n",
            "\n",
            "\n",
            "Nans in column \"issueArea\": 60 \n",
            "\n",
            "\n",
            "Nans in column \"decisionDirection\": 39 \n",
            "\n",
            "\n"
          ],
          "name": "stdout"
        }
      ]
    },
    {
      "metadata": {
        "id": "75Yp_tld_Y0G",
        "colab_type": "code",
        "colab": {}
      },
      "cell_type": "code",
      "source": [
        "# 'adminAction' only has values for about 1/3 of the data - might as well drop it completely\n",
        "\n",
        "scdb = scdb.drop(columns=['adminAction'])"
      ],
      "execution_count": 0,
      "outputs": []
    },
    {
      "metadata": {
        "id": "LGQTHxkNKCqY",
        "colab_type": "code",
        "colab": {
          "base_uri": "https://localhost:8080/",
          "height": 100
        },
        "outputId": "db34ceca-452c-476a-d7b7-44ba8c03d237"
      },
      "cell_type": "code",
      "source": [
        "# what's the deal with this one missing value?\n",
        "\n",
        "scdb[scdb['respondent'].isnull()]"
      ],
      "execution_count": 263,
      "outputs": [
        {
          "output_type": "execute_result",
          "data": {
            "text/html": [
              "<div>\n",
              "<style scoped>\n",
              "    .dataframe tbody tr th:only-of-type {\n",
              "        vertical-align: middle;\n",
              "    }\n",
              "\n",
              "    .dataframe tbody tr th {\n",
              "        vertical-align: top;\n",
              "    }\n",
              "\n",
              "    .dataframe thead th {\n",
              "        text-align: right;\n",
              "    }\n",
              "</style>\n",
              "<table border=\"1\" class=\"dataframe\">\n",
              "  <thead>\n",
              "    <tr style=\"text-align: right;\">\n",
              "      <th></th>\n",
              "      <th>term</th>\n",
              "      <th>chief</th>\n",
              "      <th>petitioner</th>\n",
              "      <th>respondent</th>\n",
              "      <th>jurisdiction</th>\n",
              "      <th>caseOrigin</th>\n",
              "      <th>caseSource</th>\n",
              "      <th>certReason</th>\n",
              "      <th>lcDispositionDirection</th>\n",
              "      <th>issueArea</th>\n",
              "      <th>majVotes</th>\n",
              "      <th>minVotes</th>\n",
              "      <th>justicesParty</th>\n",
              "      <th>presidentialParty</th>\n",
              "      <th>houseParty</th>\n",
              "      <th>senateParty</th>\n",
              "      <th>decisionDirection</th>\n",
              "    </tr>\n",
              "  </thead>\n",
              "  <tbody>\n",
              "    <tr>\n",
              "      <th>484</th>\n",
              "      <td>1949</td>\n",
              "      <td>Vinson</td>\n",
              "      <td>27</td>\n",
              "      <td>NaN</td>\n",
              "      <td>2</td>\n",
              "      <td>77.0</td>\n",
              "      <td>77.0</td>\n",
              "      <td>1.0</td>\n",
              "      <td>NaN</td>\n",
              "      <td>NaN</td>\n",
              "      <td>4</td>\n",
              "      <td>4</td>\n",
              "      <td>0.0</td>\n",
              "      <td>D</td>\n",
              "      <td>D</td>\n",
              "      <td>D</td>\n",
              "      <td>NaN</td>\n",
              "    </tr>\n",
              "  </tbody>\n",
              "</table>\n",
              "</div>"
            ],
            "text/plain": [
              "     term   chief  petitioner  respondent  jurisdiction  caseOrigin  \\\n",
              "484  1949  Vinson          27         NaN             2        77.0   \n",
              "\n",
              "     caseSource  certReason  lcDispositionDirection  issueArea  majVotes  \\\n",
              "484        77.0         1.0                     NaN        NaN         4   \n",
              "\n",
              "     minVotes  justicesParty presidentialParty houseParty senateParty  \\\n",
              "484         4            0.0                 D          D           D   \n",
              "\n",
              "     decisionDirection  \n",
              "484                NaN  "
            ]
          },
          "metadata": {
            "tags": []
          },
          "execution_count": 263
        }
      ]
    },
    {
      "metadata": {
        "id": "v3mMl6PM-I2d",
        "colab_type": "code",
        "colab": {}
      },
      "cell_type": "code",
      "source": [
        "# turns out it loaded into the notebook wrong(???), but it can be corrected by hand\n",
        "\n",
        "scdb.at[484, 'respondent'] = 231"
      ],
      "execution_count": 0,
      "outputs": []
    },
    {
      "metadata": {
        "id": "u11oG9in_xnU",
        "colab_type": "code",
        "colab": {}
      },
      "cell_type": "code",
      "source": [
        "# we are trying to predict 'decisionDirection', it's best to drop all the rows\n",
        "# with null values here instead of imputing them\n",
        "\n",
        "scdb = scdb.dropna(subset=['decisionDirection'])"
      ],
      "execution_count": 0,
      "outputs": []
    },
    {
      "metadata": {
        "id": "s8PFPz1zN2Yh",
        "colab_type": "code",
        "colab": {
          "base_uri": "https://localhost:8080/",
          "height": 85
        },
        "outputId": "12286cec-6c54-4e9f-d61d-6f5dac702ca5"
      },
      "cell_type": "code",
      "source": [
        "# that leaves us with a lot of data still\n",
        "\n",
        "print(scdb['decisionDirection'].value_counts())"
      ],
      "execution_count": 266,
      "outputs": [
        {
          "output_type": "stream",
          "text": [
            "2.0    4467\n",
            "1.0    4239\n",
            "3.0     148\n",
            "Name: decisionDirection, dtype: int64\n"
          ],
          "name": "stdout"
        }
      ]
    },
    {
      "metadata": {
        "id": "-piGE1l_OJ8P",
        "colab_type": "code",
        "colab": {}
      },
      "cell_type": "code",
      "source": [
        "# drop 148 more rows because '3.0' means unspecified\n",
        "\n",
        "scdb = scdb[scdb['decisionDirection'] != 3]"
      ],
      "execution_count": 0,
      "outputs": []
    },
    {
      "metadata": {
        "id": "gl6P5kBnYMeD",
        "colab_type": "code",
        "colab": {}
      },
      "cell_type": "code",
      "source": [
        "# it's easier to switch the dependent variable to 0s and 1s now, for easy scoring later\n",
        "\n",
        "scdb['decisionDirection'] = scdb['decisionDirection'].replace(2.0, 0.0)"
      ],
      "execution_count": 0,
      "outputs": []
    },
    {
      "metadata": {
        "id": "8jSxpgJ4A1bi",
        "colab_type": "code",
        "colab": {
          "base_uri": "https://localhost:8080/",
          "height": 34
        },
        "outputId": "7def10a8-4451-4938-8976-888171a1109d"
      },
      "cell_type": "code",
      "source": [
        "# how many rows are left?\n",
        "\n",
        "scdb.shape"
      ],
      "execution_count": 269,
      "outputs": [
        {
          "output_type": "execute_result",
          "data": {
            "text/plain": [
              "(8706, 17)"
            ]
          },
          "metadata": {
            "tags": []
          },
          "execution_count": 269
        }
      ]
    },
    {
      "metadata": {
        "id": "_goJCNiEK7mr",
        "colab_type": "code",
        "colab": {
          "base_uri": "https://localhost:8080/",
          "height": 2839
        },
        "outputId": "0db29d8f-8d31-4946-b0bd-3aa26e09e987"
      },
      "cell_type": "code",
      "source": [
        "# here, I am looking for how common the mode is for each feature with null values\n",
        "\n",
        "for column in scdb.columns:\n",
        "    if scdb[column].isnull().any() == True:\n",
        "        print(column, scdb[column].value_counts(), '\\n\\n')"
      ],
      "execution_count": 270,
      "outputs": [
        {
          "output_type": "stream",
          "text": [
            "caseOrigin 302.0    1856\n",
            "96.0      444\n",
            "55.0      415\n",
            "66.0      315\n",
            "50.0      225\n",
            "48.0      224\n",
            "109.0     149\n",
            "51.0      143\n",
            "32.0      134\n",
            "80.0      120\n",
            "126.0     119\n",
            "3.0       110\n",
            "58.0      109\n",
            "94.0      108\n",
            "92.0      107\n",
            "9.0       106\n",
            "81.0      101\n",
            "121.0     101\n",
            "75.0       97\n",
            "300.0      89\n",
            "120.0      88\n",
            "103.0      85\n",
            "45.0       85\n",
            "52.0       84\n",
            "122.0      82\n",
            "104.0      82\n",
            "60.0       81\n",
            "86.0       81\n",
            "79.0       77\n",
            "129.0      76\n",
            "         ... \n",
            "78.0       12\n",
            "101.0      10\n",
            "76.0        9\n",
            "5.0         9\n",
            "155.0       8\n",
            "31.0        8\n",
            "153.0       8\n",
            "130.0       7\n",
            "1.0         7\n",
            "62.0        6\n",
            "125.0       5\n",
            "160.0       4\n",
            "156.0       3\n",
            "2.0         3\n",
            "20.0        3\n",
            "6.0         3\n",
            "163.0       2\n",
            "17.0        2\n",
            "7.0         2\n",
            "15.0        1\n",
            "10.0        1\n",
            "152.0       1\n",
            "151.0       1\n",
            "154.0       1\n",
            "157.0       1\n",
            "150.0       1\n",
            "102.0       1\n",
            "158.0       1\n",
            "161.0       1\n",
            "16.0        1\n",
            "Name: caseOrigin, Length: 134, dtype: int64 \n",
            "\n",
            "\n",
            "caseSource 300.0    1651\n",
            "29.0     1037\n",
            "25.0      665\n",
            "22.0      624\n",
            "26.0      482\n",
            "32.0      477\n",
            "27.0      464\n",
            "23.0      394\n",
            "24.0      369\n",
            "28.0      339\n",
            "301.0     323\n",
            "30.0      270\n",
            "31.0      210\n",
            "21.0      177\n",
            "8.0        97\n",
            "55.0       81\n",
            "3.0        81\n",
            "96.0       76\n",
            "66.0       53\n",
            "50.0       32\n",
            "302.0      32\n",
            "80.0       24\n",
            "51.0       23\n",
            "109.0      22\n",
            "85.0       22\n",
            "48.0       21\n",
            "60.0       21\n",
            "53.0       17\n",
            "41.0       17\n",
            "126.0      16\n",
            "         ... \n",
            "95.0        4\n",
            "67.0        4\n",
            "134.0       3\n",
            "73.0        3\n",
            "74.0        3\n",
            "70.0        3\n",
            "46.0        3\n",
            "133.0       3\n",
            "111.0       3\n",
            "89.0        3\n",
            "127.0       3\n",
            "119.0       3\n",
            "101.0       2\n",
            "63.0        2\n",
            "106.0       2\n",
            "15.0        2\n",
            "128.0       2\n",
            "71.0        2\n",
            "44.0        2\n",
            "64.0        2\n",
            "115.0       2\n",
            "118.0       2\n",
            "77.0        2\n",
            "90.0        1\n",
            "82.0        1\n",
            "116.0       1\n",
            "153.0       1\n",
            "76.0        1\n",
            "84.0        1\n",
            "91.0        1\n",
            "Name: caseSource, Length: 109, dtype: int64 \n",
            "\n",
            "\n",
            "certReason 12.0    3116\n",
            "1.0     1620\n",
            "11.0    1272\n",
            "2.0     1271\n",
            "10.0     758\n",
            "3.0      184\n",
            "4.0      127\n",
            "5.0      103\n",
            "13.0      85\n",
            "6.0       41\n",
            "7.0       39\n",
            "9.0       11\n",
            "8.0        4\n",
            "Name: certReason, dtype: int64 \n",
            "\n",
            "\n",
            "lcDispositionDirection 1.0    4843\n",
            "2.0    3745\n",
            "3.0      31\n",
            "Name: lcDispositionDirection, dtype: int64 \n",
            "\n",
            "\n",
            "issueArea 1.0     2013\n",
            "8.0     1719\n",
            "2.0     1440\n",
            "9.0     1218\n",
            "3.0      676\n",
            "10.0     398\n",
            "7.0      359\n",
            "4.0      345\n",
            "12.0     311\n",
            "5.0      114\n",
            "6.0      100\n",
            "13.0       5\n",
            "14.0       1\n",
            "Name: issueArea, dtype: int64 \n",
            "\n",
            "\n"
          ],
          "name": "stdout"
        }
      ]
    },
    {
      "metadata": {
        "id": "FRwbQuTmMEyZ",
        "colab_type": "code",
        "colab": {
          "base_uri": "https://localhost:8080/",
          "height": 732
        },
        "outputId": "1cfcb209-0721-4227-b190-fa4bca938e56"
      },
      "cell_type": "code",
      "source": [
        "# missingno makes it easy to see where the nulls are located in you dataset\n",
        "\n",
        "msno.matrix(scdb);"
      ],
      "execution_count": 271,
      "outputs": [
        {
          "output_type": "display_data",
          "data": {
            "image/png": "[encoded data removed]",
            "text/plain": [
              "<matplotlib.figure.Figure at 0x7f9fcf122940>"
            ]
          },
          "metadata": {
            "tags": []
          }
        }
      ]
    },
    {
      "metadata": {
        "id": "fs24SOyaN4dn",
        "colab_type": "code",
        "colab": {
          "base_uri": "https://localhost:8080/",
          "height": 829
        },
        "outputId": "b41598fa-80b1-4637-b9e2-65216ecd3bc6"
      },
      "cell_type": "code",
      "source": [
        "# the null values tend to be in the same rows for 'caseSource' and 'caseOrigin'\n",
        "\n",
        "msno.heatmap(scdb);"
      ],
      "execution_count": 272,
      "outputs": [
        {
          "output_type": "display_data",
          "data": {
            "image/png": "[encoded data removed]",
            "text/plain": [
              "<matplotlib.figure.Figure at 0x7f9fd4c2ff28>"
            ]
          },
          "metadata": {
            "tags": []
          }
        }
      ]
    },
    {
      "metadata": {
        "id": "tzMbNN-8B6LO",
        "colab_type": "code",
        "colab": {}
      },
      "cell_type": "code",
      "source": [
        "# create a function to fill columns with the mode of that column\n",
        "\n",
        "def fill_with_mode(data, column):\n",
        "    most_common = data[column].value_counts().idxmax()\n",
        "    return data[column].fillna(most_common)"
      ],
      "execution_count": 0,
      "outputs": []
    },
    {
      "metadata": {
        "id": "yi0sqfqCOPto",
        "colab_type": "code",
        "colab": {}
      },
      "cell_type": "code",
      "source": [
        "# fill all of the nulls with the mode\n",
        "\n",
        "for column in scdb.columns:\n",
        "    if scdb[column].isnull().any() == True:\n",
        "        scdb[column] = fill_with_mode(scdb, column)"
      ],
      "execution_count": 0,
      "outputs": []
    },
    {
      "metadata": {
        "id": "9RXUr_vLOhlK",
        "colab_type": "code",
        "colab": {
          "base_uri": "https://localhost:8080/",
          "height": 306
        },
        "outputId": "069248e5-f808-4408-c81c-1ee10e76df0f"
      },
      "cell_type": "code",
      "source": [
        "# sanity check for any existing null values (there shouldn't be any)\n",
        "\n",
        "for column in scdb.columns:\n",
        "    print(column, scdb[column].isnull().sum())"
      ],
      "execution_count": 275,
      "outputs": [
        {
          "output_type": "stream",
          "text": [
            "term 0\n",
            "chief 0\n",
            "petitioner 0\n",
            "respondent 0\n",
            "jurisdiction 0\n",
            "caseOrigin 0\n",
            "caseSource 0\n",
            "certReason 0\n",
            "lcDispositionDirection 0\n",
            "issueArea 0\n",
            "majVotes 0\n",
            "minVotes 0\n",
            "justicesParty 0\n",
            "presidentialParty 0\n",
            "houseParty 0\n",
            "senateParty 0\n",
            "decisionDirection 0\n"
          ],
          "name": "stdout"
        }
      ]
    },
    {
      "metadata": {
        "id": "jNUEN018IFdi",
        "colab_type": "code",
        "colab": {
          "base_uri": "https://localhost:8080/",
          "height": 306
        },
        "outputId": "99efb8ea-93a3-40a7-a2cb-494d811b2c3f"
      },
      "cell_type": "code",
      "source": [
        "# to run the model in the classifiers, datatypes need to be ints or floats\n",
        "\n",
        "for column in scdb.columns:\n",
        "    print(column, scdb[column].dtype)"
      ],
      "execution_count": 276,
      "outputs": [
        {
          "output_type": "stream",
          "text": [
            "term int64\n",
            "chief object\n",
            "petitioner int64\n",
            "respondent float64\n",
            "jurisdiction int64\n",
            "caseOrigin float64\n",
            "caseSource float64\n",
            "certReason float64\n",
            "lcDispositionDirection float64\n",
            "issueArea float64\n",
            "majVotes int64\n",
            "minVotes int64\n",
            "justicesParty float64\n",
            "presidentialParty object\n",
            "houseParty object\n",
            "senateParty object\n",
            "decisionDirection float64\n"
          ],
          "name": "stdout"
        }
      ]
    },
    {
      "metadata": {
        "id": "1MCBsclSPOf7",
        "colab_type": "code",
        "colab": {}
      },
      "cell_type": "code",
      "source": [
        "# sklearn's LabelEncoder will be used to turn the rest of the columns into ints\n",
        "\n",
        "label_enc = LabelEncoder()\n",
        "for column in scdb.columns:\n",
        "    if scdb[column].dtype == 'object': \n",
        "        scdb[column] = label_enc.fit_transform(scdb[column])"
      ],
      "execution_count": 0,
      "outputs": []
    },
    {
      "metadata": {
        "id": "JkVne3jSKGwx",
        "colab_type": "code",
        "colab": {
          "base_uri": "https://localhost:8080/",
          "height": 4318
        },
        "outputId": "1dc961b7-884a-4ae1-8de6-e32ea93861b9"
      },
      "cell_type": "code",
      "source": [
        "# double check\n",
        "print(scdb)"
      ],
      "execution_count": 316,
      "outputs": [
        {
          "output_type": "stream",
          "text": [
            "      term  chief  petitioner  respondent  jurisdiction  caseOrigin  \\\n",
            "0     1946      3         198       172.0             6        51.0   \n",
            "1     1946      3         100        27.0             1       123.0   \n",
            "2     1946      3         209        27.0             2       107.0   \n",
            "3     1946      3          27       170.0             1         3.0   \n",
            "4     1946      3          27       176.0             1         3.0   \n",
            "5     1946      3         198         4.0             2       302.0   \n",
            "6     1946      3         148       405.0             1        21.0   \n",
            "7     1946      3         189       189.0             1        54.0   \n",
            "8     1946      3           4       248.0             1        44.0   \n",
            "9     1946      3         135       114.0             1        73.0   \n",
            "10    1946      3         126        28.0             1       302.0   \n",
            "11    1946      3         100        27.0             1        51.0   \n",
            "12    1946      3          27       137.0             1        92.0   \n",
            "13    1946      3         106        27.0             1        92.0   \n",
            "14    1946      3         338       221.0             1        32.0   \n",
            "15    1946      3          27       166.0             1        86.0   \n",
            "16    1946      3         102        19.0             2       302.0   \n",
            "17    1946      3          27       158.0             1        66.0   \n",
            "18    1946      3         369       240.0             1       109.0   \n",
            "19    1946      3         306       142.0             1        92.0   \n",
            "20    1946      3         306       142.0             1        92.0   \n",
            "21    1946      3         382       151.0             1        21.0   \n",
            "22    1946      3         142        27.0             1       115.0   \n",
            "23    1946      3          28       369.0             1       302.0   \n",
            "24    1946      3          27       100.0             1        81.0   \n",
            "25    1946      3         172       177.0             1        66.0   \n",
            "26    1946      3         177       172.0             6       302.0   \n",
            "27    1946      3          25        19.0             2       300.0   \n",
            "28    1946      3          27       116.0             2        54.0   \n",
            "29    1946      3         245       234.0             1       120.0   \n",
            "...    ...    ...         ...         ...           ...         ...   \n",
            "8860  2017      2         126        27.0             1       122.0   \n",
            "8861  2017      2          27       133.0             1        96.0   \n",
            "8862  2017      2         218         3.0             1        58.0   \n",
            "8863  2017      2         100        27.0             1        72.0   \n",
            "8864  2017      2         215         7.0             1        59.0   \n",
            "8865  2017      2         251         4.0             2        79.0   \n",
            "8867  2017      2         122       230.0             1        81.0   \n",
            "8869  2017      2          18       208.0             1        45.0   \n",
            "8870  2017      2         231        27.0             1        66.0   \n",
            "8871  2017      2         122       122.0             1       121.0   \n",
            "8872  2017      2          28       233.0             1       302.0   \n",
            "8873  2017      2         111       138.0             1        20.0   \n",
            "8874  2017      2         126        27.0             1       121.0   \n",
            "8875  2017      2          28        27.0             1       129.0   \n",
            "8876  2017      2         166       166.0             1        83.0   \n",
            "8877  2017      2         170       195.0             1       302.0   \n",
            "8878  2017      2          27       100.0             1        51.0   \n",
            "8879  2017      2         122       237.0             1        48.0   \n",
            "8880  2017      2         126        27.0             1        60.0   \n",
            "8881  2017      2         126        27.0             1        70.0   \n",
            "8883  2017      2         106       327.0             1        32.0   \n",
            "8884  2017      2         126        27.0             1        93.0   \n",
            "8885  2017      2          19       251.0             2       122.0   \n",
            "8886  2017      2         123       233.0             1        94.0   \n",
            "8887  2017      2          19        28.0             1        63.0   \n",
            "8888  2017      2         126        28.0             1       301.0   \n",
            "8889  2017      2         363       106.0             1        55.0   \n",
            "8890  2017      2          28       251.0             2        99.0   \n",
            "8891  2017      2         227         3.0             1        72.0   \n",
            "8892  2017      2          28       126.0             1        50.0   \n",
            "\n",
            "      caseSource  certReason  lcDispositionDirection  issueArea  majVotes  \\\n",
            "0           29.0        11.0                     1.0        8.0         8   \n",
            "1           30.0         4.0                     1.0        1.0         6   \n",
            "2          107.0         1.0                     2.0        8.0         5   \n",
            "3            3.0        10.0                     2.0        2.0         5   \n",
            "4            3.0         2.0                     2.0        8.0         6   \n",
            "5          300.0         1.0                     2.0        8.0         7   \n",
            "6           21.0        10.0                     2.0        8.0         6   \n",
            "7           23.0        12.0                     2.0        9.0         9   \n",
            "8           29.0        10.0                     2.0        7.0         9   \n",
            "9           26.0        10.0                     2.0        8.0         8   \n",
            "10         300.0        10.0                     1.0        1.0         5   \n",
            "11          29.0        10.0                     1.0        2.0         6   \n",
            "12          23.0         4.0                     2.0        1.0         9   \n",
            "13          23.0         4.0                     1.0        1.0         9   \n",
            "14          32.0        10.0                     1.0        8.0         8   \n",
            "15          28.0        10.0                     1.0        4.0         9   \n",
            "16         300.0         1.0                     2.0        8.0         6   \n",
            "17          27.0        10.0                     1.0        8.0         9   \n",
            "18          23.0        10.0                     1.0       12.0         6   \n",
            "19          23.0         2.0                     2.0        3.0         9   \n",
            "20          23.0         2.0                     2.0        3.0         9   \n",
            "21          21.0         3.0                     1.0        7.0         8   \n",
            "22          28.0        10.0                     1.0        3.0         9   \n",
            "23         300.0        11.0                     2.0       12.0         7   \n",
            "24          26.0         4.0                     2.0        1.0         7   \n",
            "25          27.0         5.0                     2.0        8.0         5   \n",
            "26         300.0         5.0                     1.0        8.0         5   \n",
            "27         300.0         1.0                     2.0        8.0         9   \n",
            "28          54.0         1.0                     1.0        8.0         9   \n",
            "29          25.0        10.0                     1.0        8.0         9   \n",
            "...          ...         ...                     ...        ...       ...   \n",
            "8860        25.0         2.0                     1.0        1.0         7   \n",
            "8861        22.0        11.0                     2.0        9.0         9   \n",
            "8862        31.0        11.0                     1.0        3.0         8   \n",
            "8863        30.0         2.0                     1.0        1.0         8   \n",
            "8864        31.0        12.0                     1.0        1.0         6   \n",
            "8865        79.0         1.0                     1.0        9.0         9   \n",
            "8867        26.0        13.0                     2.0       14.0         9   \n",
            "8869        29.0        12.0                     2.0        9.0         7   \n",
            "8870        27.0         2.0                     2.0       12.0         5   \n",
            "8871         8.0        12.0                     2.0        8.0         7   \n",
            "8872       300.0        10.0                     1.0        8.0         5   \n",
            "8873        31.0         2.0                     2.0        8.0         9   \n",
            "8874        25.0         2.0                     1.0        1.0         9   \n",
            "8875        29.0        12.0                     2.0        2.0         4   \n",
            "8876        28.0         2.0                     1.0        8.0         8   \n",
            "8877       300.0         8.0                     1.0        2.0         7   \n",
            "8878        29.0        12.0                     2.0        9.0         9   \n",
            "8879        29.0         2.0                     2.0        9.0         9   \n",
            "8880        31.0         2.0                     1.0        1.0         6   \n",
            "8881        28.0        11.0                     1.0        1.0         9   \n",
            "8883        21.0         3.0                     1.0        2.0         8   \n",
            "8884        30.0        12.0                     1.0        1.0         5   \n",
            "8885       122.0         1.0                     2.0        2.0         5   \n",
            "8886        22.0         2.0                     1.0        9.0         9   \n",
            "8887        29.0        12.0                     2.0        2.0         5   \n",
            "8888       300.0        12.0                     1.0        1.0         8   \n",
            "8889        32.0        12.0                     3.0        9.0         9   \n",
            "8890        99.0         1.0                     1.0        2.0         8   \n",
            "8891        30.0        12.0                     1.0        2.0         9   \n",
            "8892        29.0        12.0                     2.0        1.0         8   \n",
            "\n",
            "      minVotes  justicesParty  presidentialParty  houseParty  senateParty  \\\n",
            "0            1            0.0                  0           0            0   \n",
            "1            3            0.0                  0           0            0   \n",
            "2            4            0.0                  0           0            0   \n",
            "3            3            0.0                  0           0            0   \n",
            "4            3            0.0                  0           0            0   \n",
            "5            1            0.0                  0           0            0   \n",
            "6            0            0.0                  0           0            0   \n",
            "7            0            0.0                  0           0            0   \n",
            "8            0            0.0                  0           0            0   \n",
            "9            0            0.0                  0           0            0   \n",
            "10           4            0.0                  0           0            0   \n",
            "11           3            0.0                  0           0            0   \n",
            "12           0            0.0                  0           0            0   \n",
            "13           0            0.0                  0           0            0   \n",
            "14           0            0.0                  0           0            0   \n",
            "15           0            0.0                  0           0            0   \n",
            "16           3            0.0                  0           0            0   \n",
            "17           0            0.0                  0           0            0   \n",
            "18           3            0.0                  0           0            0   \n",
            "19           0            0.0                  0           0            0   \n",
            "20           0            0.0                  0           0            0   \n",
            "21           1            0.0                  0           0            0   \n",
            "22           0            0.0                  0           0            0   \n",
            "23           2            0.0                  0           0            0   \n",
            "24           2            0.0                  0           0            0   \n",
            "25           4            0.0                  0           1            1   \n",
            "26           4            0.0                  0           1            1   \n",
            "27           0            0.0                  0           1            1   \n",
            "28           0            0.0                  0           1            1   \n",
            "29           0            0.0                  0           1            1   \n",
            "...        ...            ...                ...         ...          ...   \n",
            "8860         2            0.0                  1           1            1   \n",
            "8861         0            0.0                  1           1            1   \n",
            "8862         1            0.0                  1           1            1   \n",
            "8863         0            0.0                  1           1            1   \n",
            "8864         3            0.0                  1           1            1   \n",
            "8865         0            0.0                  1           1            1   \n",
            "8867         0            0.0                  1           1            1   \n",
            "8869         2            0.0                  1           1            1   \n",
            "8870         4            0.0                  1           1            1   \n",
            "8871         2            0.0                  1           1            1   \n",
            "8872         4            0.0                  1           1            1   \n",
            "8873         0            0.0                  1           1            1   \n",
            "8874         0            0.0                  1           1            1   \n",
            "8875         4            0.0                  1           1            1   \n",
            "8876         1            0.0                  1           1            1   \n",
            "8877         2            0.0                  1           1            1   \n",
            "8878         0            0.0                  1           1            1   \n",
            "8879         0            0.0                  1           1            1   \n",
            "8880         3            0.0                  1           1            1   \n",
            "8881         0            0.0                  1           1            1   \n",
            "8883         1            0.0                  1           1            1   \n",
            "8884         3            0.0                  1           1            1   \n",
            "8885         4            0.0                  1           1            1   \n",
            "8886         0            0.0                  1           1            1   \n",
            "8887         4            0.0                  1           1            1   \n",
            "8888         1            0.0                  1           1            1   \n",
            "8889         0            0.0                  1           1            1   \n",
            "8890         0            0.0                  1           1            1   \n",
            "8891         0            0.0                  1           1            1   \n",
            "8892         1            0.0                  1           1            1   \n",
            "\n",
            "      decisionDirection  \n",
            "0                   0.0  \n",
            "1                   1.0  \n",
            "2                   0.0  \n",
            "3                   0.0  \n",
            "4                   0.0  \n",
            "5                   1.0  \n",
            "6                   0.0  \n",
            "7                   1.0  \n",
            "8                   1.0  \n",
            "9                   0.0  \n",
            "10                  1.0  \n",
            "11                  0.0  \n",
            "12                  1.0  \n",
            "13                  0.0  \n",
            "14                  0.0  \n",
            "15                  0.0  \n",
            "16                  1.0  \n",
            "17                  0.0  \n",
            "18                  0.0  \n",
            "19                  1.0  \n",
            "20                  1.0  \n",
            "21                  0.0  \n",
            "22                  0.0  \n",
            "23                  0.0  \n",
            "24                  1.0  \n",
            "25                  0.0  \n",
            "26                  0.0  \n",
            "27                  0.0  \n",
            "28                  1.0  \n",
            "29                  0.0  \n",
            "...                 ...  \n",
            "8860                0.0  \n",
            "8861                1.0  \n",
            "8862                0.0  \n",
            "8863                1.0  \n",
            "8864                0.0  \n",
            "8865                1.0  \n",
            "8867                1.0  \n",
            "8869                1.0  \n",
            "8870                1.0  \n",
            "8871                1.0  \n",
            "8872                0.0  \n",
            "8873                0.0  \n",
            "8874                0.0  \n",
            "8875                0.0  \n",
            "8876                0.0  \n",
            "8877                0.0  \n",
            "8878                1.0  \n",
            "8879                1.0  \n",
            "8880                0.0  \n",
            "8881                1.0  \n",
            "8883                0.0  \n",
            "8884                1.0  \n",
            "8885                1.0  \n",
            "8886                0.0  \n",
            "8887                1.0  \n",
            "8888                0.0  \n",
            "8889                1.0  \n",
            "8890                0.0  \n",
            "8891                0.0  \n",
            "8892                1.0  \n",
            "\n",
            "[8706 rows x 17 columns]\n"
          ],
          "name": "stdout"
        }
      ]
    },
    {
      "metadata": {
        "id": "jm5Lu1fb65Ba",
        "colab_type": "text"
      },
      "cell_type": "markdown",
      "source": [
        "### Running the Classifiers"
      ]
    },
    {
      "metadata": {
        "id": "jXxw-p6OD8-o",
        "colab_type": "code",
        "colab": {}
      },
      "cell_type": "code",
      "source": [
        "# import the classifiers and metrics\n",
        "\n",
        "from sklearn.model_selection import train_test_split\n",
        "from sklearn.tree import DecisionTreeClassifier\n",
        "from sklearn.ensemble import RandomForestClassifier\n",
        "from sklearn.linear_model import LogisticRegression\n",
        "from sklearn.metrics import roc_auc_score\n",
        "from sklearn.metrics import roc_curve\n",
        "import sklearn.model_selection as ms"
      ],
      "execution_count": 0,
      "outputs": []
    },
    {
      "metadata": {
        "id": "yrEoEjPkEVp8",
        "colab_type": "code",
        "colab": {}
      },
      "cell_type": "code",
      "source": [
        "# we are trying to predict 'decisionDirection', so remove it from the dataframe\n",
        "# and create a separate series for it\n",
        "\n",
        "y_le = scdb['decisionDirection']\n",
        "X_le = scdb.drop(columns=['decisionDirection'])"
      ],
      "execution_count": 0,
      "outputs": []
    },
    {
      "metadata": {
        "id": "TI4llHULEtoc",
        "colab_type": "code",
        "colab": {
          "base_uri": "https://localhost:8080/",
          "height": 34
        },
        "outputId": "4e985898-e6c0-4c2f-b034-d4d9d4207bf4"
      },
      "cell_type": "code",
      "source": [
        "# sanity checks to make sure the rows are equal\n",
        "\n",
        "y_le.shape"
      ],
      "execution_count": 95,
      "outputs": [
        {
          "output_type": "execute_result",
          "data": {
            "text/plain": [
              "(8706,)"
            ]
          },
          "metadata": {
            "tags": []
          },
          "execution_count": 95
        }
      ]
    },
    {
      "metadata": {
        "id": "o2MzSo__EqSy",
        "colab_type": "code",
        "colab": {
          "base_uri": "https://localhost:8080/",
          "height": 34
        },
        "outputId": "643868c7-2c71-42a2-cde1-be9de6e4fc12"
      },
      "cell_type": "code",
      "source": [
        "X_le.shape"
      ],
      "execution_count": 96,
      "outputs": [
        {
          "output_type": "execute_result",
          "data": {
            "text/plain": [
              "(8706, 16)"
            ]
          },
          "metadata": {
            "tags": []
          },
          "execution_count": 96
        }
      ]
    },
    {
      "metadata": {
        "id": "IFQAnTRmEQIW",
        "colab_type": "code",
        "colab": {}
      },
      "cell_type": "code",
      "source": [
        "# create our first classifier\n",
        "rfc = RandomForestClassifier(max_features='log2', random_state=36, n_estimators = 100, warm_start = True)"
      ],
      "execution_count": 0,
      "outputs": []
    },
    {
      "metadata": {
        "id": "ffndD3zcFZIn",
        "colab_type": "code",
        "colab": {}
      },
      "cell_type": "code",
      "source": [
        "X_le_train, X_le_test, y_le_train, y_le_test = train_test_split(X_le, y_le, test_size=.2, random_state = 42)"
      ],
      "execution_count": 0,
      "outputs": []
    },
    {
      "metadata": {
        "id": "f_E6Cdc1EVAm",
        "colab_type": "code",
        "colab": {
          "base_uri": "https://localhost:8080/",
          "height": 119
        },
        "outputId": "983bff47-cc51-47c7-8c5b-6e5b088ff74c"
      },
      "cell_type": "code",
      "source": [
        "rfc.fit(X_le_train, y_le_train)"
      ],
      "execution_count": 99,
      "outputs": [
        {
          "output_type": "execute_result",
          "data": {
            "text/plain": [
              "RandomForestClassifier(bootstrap=True, class_weight=None, criterion='gini',\n",
              "            max_depth=None, max_features='log2', max_leaf_nodes=None,\n",
              "            min_impurity_decrease=0.0, min_impurity_split=None,\n",
              "            min_samples_leaf=1, min_samples_split=2,\n",
              "            min_weight_fraction_leaf=0.0, n_estimators=100, n_jobs=1,\n",
              "            oob_score=False, random_state=36, verbose=0, warm_start=True)"
            ]
          },
          "metadata": {
            "tags": []
          },
          "execution_count": 99
        }
      ]
    },
    {
      "metadata": {
        "id": "cNKrqPfb7qPc",
        "colab_type": "code",
        "colab": {}
      },
      "cell_type": "code",
      "source": [
        "cross_val = ms.KFold(n_splits=3, random_state=42)\n",
        "scores = ms.cross_val_score(rfc, X_le_test, y_le_test, cv=cross_val, scoring='roc_auc')"
      ],
      "execution_count": 0,
      "outputs": []
    },
    {
      "metadata": {
        "id": "dRleBA4o8c0o",
        "colab_type": "code",
        "colab": {
          "base_uri": "https://localhost:8080/",
          "height": 34
        },
        "outputId": "5c9d6b25-7955-4697-cf5c-33c45bb5762e"
      },
      "cell_type": "code",
      "source": [
        "print(\"Mean AUC Score - Random Forest Classifier: \", scores.mean())"
      ],
      "execution_count": 101,
      "outputs": [
        {
          "output_type": "stream",
          "text": [
            "Mean AUC Score - Random Forest Classifier:  0.689501149635674\n"
          ],
          "name": "stdout"
        }
      ]
    },
    {
      "metadata": {
        "id": "aPIoN4xzFKA1",
        "colab_type": "code",
        "colab": {}
      },
      "cell_type": "code",
      "source": [
        "y_le_rfc_pred = rfc.predict(X_le_test)"
      ],
      "execution_count": 0,
      "outputs": []
    },
    {
      "metadata": {
        "id": "abuNAFHuvakL",
        "colab_type": "code",
        "colab": {}
      },
      "cell_type": "code",
      "source": [
        "fpr, tpr, threshholds = roc_curve(y_le_test, y_le_rfc_pred)"
      ],
      "execution_count": 0,
      "outputs": []
    },
    {
      "metadata": {
        "id": "P3jiKKA3v7A1",
        "colab_type": "code",
        "colab": {
          "base_uri": "https://localhost:8080/",
          "height": 347
        },
        "outputId": "ee08596e-e887-4b17-fe25-5c43999476a6"
      },
      "cell_type": "code",
      "source": [
        "plt.plot(fpr, tpr);"
      ],
      "execution_count": 104,
      "outputs": [
        {
          "output_type": "display_data",
          "data": {
            "image/png": "[encoded data removed]",
            "text/plain": [
              "<matplotlib.figure.Figure at 0x7f9fd98a7b70>"
            ]
          },
          "metadata": {
            "tags": []
          }
        }
      ]
    },
    {
      "metadata": {
        "id": "_VTA2p4EGVLU",
        "colab_type": "code",
        "colab": {
          "base_uri": "https://localhost:8080/",
          "height": 34
        },
        "outputId": "2e0c7746-3ded-4c6f-9a3b-d00b4ac99d98"
      },
      "cell_type": "code",
      "source": [
        "roc_auc_score(y_le_test, y_le_rfc_pred)"
      ],
      "execution_count": 105,
      "outputs": [
        {
          "output_type": "execute_result",
          "data": {
            "text/plain": [
              "0.6618952103087771"
            ]
          },
          "metadata": {
            "tags": []
          },
          "execution_count": 105
        }
      ]
    },
    {
      "metadata": {
        "id": "SnxnWAR65bRC",
        "colab_type": "code",
        "colab": {}
      },
      "cell_type": "code",
      "source": [
        "lr = LogisticRegression()"
      ],
      "execution_count": 0,
      "outputs": []
    },
    {
      "metadata": {
        "id": "u42XQhfE5gqt",
        "colab_type": "code",
        "colab": {
          "base_uri": "https://localhost:8080/",
          "height": 85
        },
        "outputId": "5b0cc4c2-b02b-48f7-e20e-a3cbef9d0db0"
      },
      "cell_type": "code",
      "source": [
        "lr.fit(X_le_train, y_le_train)"
      ],
      "execution_count": 107,
      "outputs": [
        {
          "output_type": "execute_result",
          "data": {
            "text/plain": [
              "LogisticRegression(C=1.0, class_weight=None, dual=False, fit_intercept=True,\n",
              "          intercept_scaling=1, max_iter=100, multi_class='ovr', n_jobs=1,\n",
              "          penalty='l2', random_state=None, solver='liblinear', tol=0.0001,\n",
              "          verbose=0, warm_start=False)"
            ]
          },
          "metadata": {
            "tags": []
          },
          "execution_count": 107
        }
      ]
    },
    {
      "metadata": {
        "id": "GhdT7XEU5i8f",
        "colab_type": "code",
        "colab": {}
      },
      "cell_type": "code",
      "source": [
        "y_le_lr_pred = lr.predict(X_le_test)"
      ],
      "execution_count": 0,
      "outputs": []
    },
    {
      "metadata": {
        "id": "OF9mJhzI5nu3",
        "colab_type": "code",
        "colab": {}
      },
      "cell_type": "code",
      "source": [
        "fpr, tpr, threshholds = roc_curve(y_le_test, y_le_lr_pred)"
      ],
      "execution_count": 0,
      "outputs": []
    },
    {
      "metadata": {
        "id": "FrnUysrN5pRt",
        "colab_type": "code",
        "colab": {
          "base_uri": "https://localhost:8080/",
          "height": 347
        },
        "outputId": "cfe8fa21-de2f-41ed-9e52-df7db1bfc304"
      },
      "cell_type": "code",
      "source": [
        "plt.plot(fpr, tpr);"
      ],
      "execution_count": 110,
      "outputs": [
        {
          "output_type": "display_data",
          "data": {
            "image/png": "[encoded data removed]",
            "text/plain": [
              "<matplotlib.figure.Figure at 0x7f9fd5338a20>"
            ]
          },
          "metadata": {
            "tags": []
          }
        }
      ]
    },
    {
      "metadata": {
        "id": "AkerGItx5upF",
        "colab_type": "code",
        "colab": {
          "base_uri": "https://localhost:8080/",
          "height": 34
        },
        "outputId": "fa3fd75d-fdcb-41a3-d790-03921e5d598d"
      },
      "cell_type": "code",
      "source": [
        "roc_auc_score(y_le_test, y_le_lr_pred)"
      ],
      "execution_count": 111,
      "outputs": [
        {
          "output_type": "execute_result",
          "data": {
            "text/plain": [
              "0.628476516665081"
            ]
          },
          "metadata": {
            "tags": []
          },
          "execution_count": 111
        }
      ]
    },
    {
      "metadata": {
        "id": "FhGSARzI9muG",
        "colab_type": "code",
        "colab": {}
      },
      "cell_type": "code",
      "source": [
        "dtc = DecisionTreeClassifier()"
      ],
      "execution_count": 0,
      "outputs": []
    },
    {
      "metadata": {
        "id": "66eaCgrN59Vb",
        "colab_type": "code",
        "colab": {
          "base_uri": "https://localhost:8080/",
          "height": 119
        },
        "outputId": "3e8f2c63-4f08-4000-cae7-c9077461c348"
      },
      "cell_type": "code",
      "source": [
        "dtc.fit(X_le_train, y_le_train)"
      ],
      "execution_count": 113,
      "outputs": [
        {
          "output_type": "execute_result",
          "data": {
            "text/plain": [
              "DecisionTreeClassifier(class_weight=None, criterion='gini', max_depth=None,\n",
              "            max_features=None, max_leaf_nodes=None,\n",
              "            min_impurity_decrease=0.0, min_impurity_split=None,\n",
              "            min_samples_leaf=1, min_samples_split=2,\n",
              "            min_weight_fraction_leaf=0.0, presort=False, random_state=None,\n",
              "            splitter='best')"
            ]
          },
          "metadata": {
            "tags": []
          },
          "execution_count": 113
        }
      ]
    },
    {
      "metadata": {
        "id": "C8Nk4i3F6Ak1",
        "colab_type": "code",
        "colab": {}
      },
      "cell_type": "code",
      "source": [
        "y_le_dtc_pred = dtc.predict(X_le_test)"
      ],
      "execution_count": 0,
      "outputs": []
    },
    {
      "metadata": {
        "id": "gCFjmPKQ6EDo",
        "colab_type": "code",
        "colab": {}
      },
      "cell_type": "code",
      "source": [
        "fpr, tpr, threshholds = roc_curve(y_le_test, y_le_dtc_pred)"
      ],
      "execution_count": 0,
      "outputs": []
    },
    {
      "metadata": {
        "id": "HY6lRIZP6GQh",
        "colab_type": "code",
        "colab": {
          "base_uri": "https://localhost:8080/",
          "height": 347
        },
        "outputId": "931eaa56-b1ab-4215-8579-777675929727"
      },
      "cell_type": "code",
      "source": [
        "plt.plot(fpr, tpr);"
      ],
      "execution_count": 116,
      "outputs": [
        {
          "output_type": "display_data",
          "data": {
            "image/png": "[encoded data removed]",
            "text/plain": [
              "<matplotlib.figure.Figure at 0x7f9fd2e679e8>"
            ]
          },
          "metadata": {
            "tags": []
          }
        }
      ]
    },
    {
      "metadata": {
        "id": "7buZFXPk6IoY",
        "colab_type": "code",
        "colab": {
          "base_uri": "https://localhost:8080/",
          "height": 34
        },
        "outputId": "fe33e913-6dda-4071-bafa-6eea583eaf23"
      },
      "cell_type": "code",
      "source": [
        "roc_auc_score(y_le_test, y_le_dtc_pred)"
      ],
      "execution_count": 117,
      "outputs": [
        {
          "output_type": "execute_result",
          "data": {
            "text/plain": [
              "0.5865244347191831"
            ]
          },
          "metadata": {
            "tags": []
          },
          "execution_count": 117
        }
      ]
    },
    {
      "metadata": {
        "id": "LzPxa3RRGdk2",
        "colab_type": "code",
        "colab": {}
      },
      "cell_type": "code",
      "source": [
        "scdb_null = scdb.drop(columns=['presidentialParty', 'houseParty', 'senateParty'])"
      ],
      "execution_count": 0,
      "outputs": []
    },
    {
      "metadata": {
        "id": "-_-BlA-mHN7N",
        "colab_type": "code",
        "colab": {}
      },
      "cell_type": "code",
      "source": [
        "y_le_n = scdb_null['decisionDirection']\n",
        "X_le_n = scdb_null.drop(columns=['decisionDirection'])"
      ],
      "execution_count": 0,
      "outputs": []
    },
    {
      "metadata": {
        "id": "xs5cBC6yHgMc",
        "colab_type": "code",
        "colab": {
          "base_uri": "https://localhost:8080/",
          "height": 34
        },
        "outputId": "81364163-b103-4368-8d68-653a2acb44cb"
      },
      "cell_type": "code",
      "source": [
        "y_le_n.shape"
      ],
      "execution_count": 151,
      "outputs": [
        {
          "output_type": "execute_result",
          "data": {
            "text/plain": [
              "(8706,)"
            ]
          },
          "metadata": {
            "tags": []
          },
          "execution_count": 151
        }
      ]
    },
    {
      "metadata": {
        "id": "773wpPIFHhRF",
        "colab_type": "code",
        "colab": {
          "base_uri": "https://localhost:8080/",
          "height": 34
        },
        "outputId": "7ba25bf0-e446-4ccb-d0b3-e322545fa22d"
      },
      "cell_type": "code",
      "source": [
        "X_le_n.shape"
      ],
      "execution_count": 152,
      "outputs": [
        {
          "output_type": "execute_result",
          "data": {
            "text/plain": [
              "(8706, 13)"
            ]
          },
          "metadata": {
            "tags": []
          },
          "execution_count": 152
        }
      ]
    },
    {
      "metadata": {
        "id": "Jo6QRkOpSdo6",
        "colab_type": "code",
        "colab": {}
      },
      "cell_type": "code",
      "source": [
        "rfc_n = RandomForestClassifier(max_features='log2', random_state=36, n_estimators = 100, warm_start = True)"
      ],
      "execution_count": 0,
      "outputs": []
    },
    {
      "metadata": {
        "id": "ed3FvtfJHniB",
        "colab_type": "code",
        "colab": {}
      },
      "cell_type": "code",
      "source": [
        "X_le_n_train, X_le_n_test, y_le_n_train, y_le_n_test = train_test_split(X_le_n, y_le_n, test_size=.2, random_state = 42)"
      ],
      "execution_count": 0,
      "outputs": []
    },
    {
      "metadata": {
        "id": "09ZnUD-MNPhn",
        "colab_type": "code",
        "colab": {
          "base_uri": "https://localhost:8080/",
          "height": 119
        },
        "outputId": "c9951c62-a76b-4ba9-819f-7b80051f4a80"
      },
      "cell_type": "code",
      "source": [
        "rfc_n.fit(X_le_n_train, y_le_n_train)"
      ],
      "execution_count": 155,
      "outputs": [
        {
          "output_type": "execute_result",
          "data": {
            "text/plain": [
              "RandomForestClassifier(bootstrap=True, class_weight=None, criterion='gini',\n",
              "            max_depth=None, max_features='log2', max_leaf_nodes=None,\n",
              "            min_impurity_decrease=0.0, min_impurity_split=None,\n",
              "            min_samples_leaf=1, min_samples_split=2,\n",
              "            min_weight_fraction_leaf=0.0, n_estimators=100, n_jobs=1,\n",
              "            oob_score=False, random_state=36, verbose=0, warm_start=True)"
            ]
          },
          "metadata": {
            "tags": []
          },
          "execution_count": 155
        }
      ]
    },
    {
      "metadata": {
        "id": "-ixrnBtzPwxK",
        "colab_type": "code",
        "colab": {}
      },
      "cell_type": "code",
      "source": [
        "y_le_n_rfc_pred = rfc_n.predict(X_le_n_test)"
      ],
      "execution_count": 0,
      "outputs": []
    },
    {
      "metadata": {
        "id": "FiZ7P_gqvQ86",
        "colab_type": "code",
        "colab": {}
      },
      "cell_type": "code",
      "source": [
        "fpr, tpr, threshholds = roc_curve(y_le_n_test, y_le_n_rfc_pred)"
      ],
      "execution_count": 0,
      "outputs": []
    },
    {
      "metadata": {
        "id": "E89KSmtpvP0i",
        "colab_type": "code",
        "colab": {
          "base_uri": "https://localhost:8080/",
          "height": 347
        },
        "outputId": "f03f22fe-afca-4ef1-a6c9-d087bf0d22cd"
      },
      "cell_type": "code",
      "source": [
        "plt.plot(fpr, tpr);"
      ],
      "execution_count": 158,
      "outputs": [
        {
          "output_type": "display_data",
          "data": {
            "image/png": "[encoded data removed]",
            "text/plain": [
              "<matplotlib.figure.Figure at 0x7f9fd76a1d68>"
            ]
          },
          "metadata": {
            "tags": []
          }
        }
      ]
    },
    {
      "metadata": {
        "id": "-cHOrrnwP0af",
        "colab_type": "code",
        "colab": {
          "base_uri": "https://localhost:8080/",
          "height": 34
        },
        "outputId": "d7135267-1843-41b4-d90d-87aa77088697"
      },
      "cell_type": "code",
      "source": [
        "roc_auc_score(y_le_n_test, y_le_n_rfc_pred)"
      ],
      "execution_count": 159,
      "outputs": [
        {
          "output_type": "execute_result",
          "data": {
            "text/plain": [
              "0.6728784130910476"
            ]
          },
          "metadata": {
            "tags": []
          },
          "execution_count": 159
        }
      ]
    },
    {
      "metadata": {
        "id": "58oclhJC6UNR",
        "colab_type": "code",
        "colab": {}
      },
      "cell_type": "code",
      "source": [
        "lr_n = LogisticRegression()"
      ],
      "execution_count": 0,
      "outputs": []
    },
    {
      "metadata": {
        "id": "Ys2j276m6UNT",
        "colab_type": "code",
        "colab": {
          "base_uri": "https://localhost:8080/",
          "height": 85
        },
        "outputId": "0ee6dba8-6500-45a9-c417-91ec5eea5fdb"
      },
      "cell_type": "code",
      "source": [
        "lr_n.fit(X_le_n_train, y_le_n_train)"
      ],
      "execution_count": 161,
      "outputs": [
        {
          "output_type": "execute_result",
          "data": {
            "text/plain": [
              "LogisticRegression(C=1.0, class_weight=None, dual=False, fit_intercept=True,\n",
              "          intercept_scaling=1, max_iter=100, multi_class='ovr', n_jobs=1,\n",
              "          penalty='l2', random_state=None, solver='liblinear', tol=0.0001,\n",
              "          verbose=0, warm_start=False)"
            ]
          },
          "metadata": {
            "tags": []
          },
          "execution_count": 161
        }
      ]
    },
    {
      "metadata": {
        "id": "fCcCuz1E6UNU",
        "colab_type": "code",
        "colab": {}
      },
      "cell_type": "code",
      "source": [
        "y_le_n_lr_pred = lr_n.predict(X_le_n_test)"
      ],
      "execution_count": 0,
      "outputs": []
    },
    {
      "metadata": {
        "id": "lqVg5p2s6UNW",
        "colab_type": "code",
        "colab": {}
      },
      "cell_type": "code",
      "source": [
        "fpr, tpr, threshholds = roc_curve(y_le_n_test, y_le_n_lr_pred)"
      ],
      "execution_count": 0,
      "outputs": []
    },
    {
      "metadata": {
        "id": "cBxgDW5m6UNb",
        "colab_type": "code",
        "colab": {
          "base_uri": "https://localhost:8080/",
          "height": 347
        },
        "outputId": "2656316e-10c7-40aa-81bc-8d611eaf6aee"
      },
      "cell_type": "code",
      "source": [
        "plt.plot(fpr, tpr);"
      ],
      "execution_count": 164,
      "outputs": [
        {
          "output_type": "display_data",
          "data": {
            "image/png": "[encoded data removed]",
            "text/plain": [
              "<matplotlib.figure.Figure at 0x7f9fd4a5cb38>"
            ]
          },
          "metadata": {
            "tags": []
          }
        }
      ]
    },
    {
      "metadata": {
        "id": "wCDcfIzB6UNf",
        "colab_type": "code",
        "colab": {
          "base_uri": "https://localhost:8080/",
          "height": 35
        },
        "outputId": "e69c7391-0ec5-4f67-ac45-2dc5e1cbb683"
      },
      "cell_type": "code",
      "source": [
        "roc_auc_score(y_le_n_test, y_le_n_lr_pred)"
      ],
      "execution_count": 165,
      "outputs": [
        {
          "output_type": "execute_result",
          "data": {
            "text/plain": [
              "0.6310056131671582"
            ]
          },
          "metadata": {
            "tags": []
          },
          "execution_count": 165
        }
      ]
    },
    {
      "metadata": {
        "id": "r2P2P1G_6UNh",
        "colab_type": "code",
        "colab": {}
      },
      "cell_type": "code",
      "source": [
        "dtc_n = DecisionTreeClassifier()"
      ],
      "execution_count": 0,
      "outputs": []
    },
    {
      "metadata": {
        "id": "_n3QfDl56UNk",
        "colab_type": "code",
        "colab": {
          "base_uri": "https://localhost:8080/",
          "height": 126
        },
        "outputId": "9a7241c7-2bac-4ccd-ee2e-b0e0b320cf88"
      },
      "cell_type": "code",
      "source": [
        "dtc_n.fit(X_le_n_train, y_le_n_train)"
      ],
      "execution_count": 167,
      "outputs": [
        {
          "output_type": "execute_result",
          "data": {
            "text/plain": [
              "DecisionTreeClassifier(class_weight=None, criterion='gini', max_depth=None,\n",
              "            max_features=None, max_leaf_nodes=None,\n",
              "            min_impurity_decrease=0.0, min_impurity_split=None,\n",
              "            min_samples_leaf=1, min_samples_split=2,\n",
              "            min_weight_fraction_leaf=0.0, presort=False, random_state=None,\n",
              "            splitter='best')"
            ]
          },
          "metadata": {
            "tags": []
          },
          "execution_count": 167
        }
      ]
    },
    {
      "metadata": {
        "id": "dRyWUj9p6UNp",
        "colab_type": "code",
        "colab": {}
      },
      "cell_type": "code",
      "source": [
        "y_le_n_dtc_pred = dtc_n.predict(X_le_n_test)"
      ],
      "execution_count": 0,
      "outputs": []
    },
    {
      "metadata": {
        "id": "7NEBZNtV6UNr",
        "colab_type": "code",
        "colab": {}
      },
      "cell_type": "code",
      "source": [
        "fpr, tpr, threshholds = roc_curve(y_le_n_test, y_le_n_dtc_pred)"
      ],
      "execution_count": 0,
      "outputs": []
    },
    {
      "metadata": {
        "id": "Nr8HmXxO6UNt",
        "colab_type": "code",
        "colab": {
          "base_uri": "https://localhost:8080/",
          "height": 347
        },
        "outputId": "efca9081-6fbc-4277-cd11-927df994e41b"
      },
      "cell_type": "code",
      "source": [
        "plt.plot(fpr, tpr);"
      ],
      "execution_count": 170,
      "outputs": [
        {
          "output_type": "display_data",
          "data": {
            "image/png": "[encoded data removed]",
            "text/plain": [
              "<matplotlib.figure.Figure at 0x7f9fd79af2e8>"
            ]
          },
          "metadata": {
            "tags": []
          }
        }
      ]
    },
    {
      "metadata": {
        "id": "b_ONSe426UNy",
        "colab_type": "code",
        "colab": {
          "base_uri": "https://localhost:8080/",
          "height": 35
        },
        "outputId": "f319e6dc-a507-4cf2-e3fa-cf3beb4f3a47"
      },
      "cell_type": "code",
      "source": [
        "roc_auc_score(y_le_n_test, y_le_n_dtc_pred)"
      ],
      "execution_count": 171,
      "outputs": [
        {
          "output_type": "execute_result",
          "data": {
            "text/plain": [
              "0.5892953413883867"
            ]
          },
          "metadata": {
            "tags": []
          },
          "execution_count": 171
        }
      ]
    }
  ]
}